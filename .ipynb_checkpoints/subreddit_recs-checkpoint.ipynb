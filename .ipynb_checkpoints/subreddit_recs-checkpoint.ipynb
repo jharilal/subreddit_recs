{
 "cells": [
  {
   "cell_type": "markdown",
   "id": "5551597c-d137-49b1-ace3-391eb75af31b",
   "metadata": {},
   "source": [
    "=> posters\n",
    "=> commentors\n",
    "=> parse through profiles to determine relevant subreddits\n",
    "=> view frequency\n",
    "=> association rule\n",
    "=> knn"
   ]
  },
  {
   "cell_type": "code",
   "execution_count": 46,
   "id": "5ddebb17-8274-4ba8-8509-04dd0a490c59",
   "metadata": {},
   "outputs": [],
   "source": [
    "import praw\n",
    "import json\n",
    "import pandas as pd"
   ]
  },
  {
   "cell_type": "code",
   "execution_count": 5,
   "id": "6769c028-ff05-49ae-8dd4-e3963a49472f",
   "metadata": {},
   "outputs": [],
   "source": [
    "with open('/Users/jordanharilal/Projects/apikeys/redditinfo.txt', 'r') as creds:\n",
    "    info = creds.readlines()[0].split(',')"
   ]
  },
  {
   "cell_type": "code",
   "execution_count": 6,
   "id": "ffb7fc03-139d-4a06-8c0b-4684757ccae0",
   "metadata": {},
   "outputs": [],
   "source": [
    "client_id, secret_key, usr, pw = info[0], info[1], info[2], info[3]"
   ]
  },
  {
   "cell_type": "code",
   "execution_count": 7,
   "id": "c5e0b1f2-bad3-4613-b0e1-97ba0813dfdd",
   "metadata": {},
   "outputs": [],
   "source": [
    "reddit = praw.Reddit(client_id=client_id,\n",
    "                    client_secret=secret_key,\n",
    "                    username=usr,\n",
    "                    password=pw,\n",
    "                    user_agent='dogdogv1')"
   ]
  },
  {
   "cell_type": "code",
   "execution_count": 38,
   "id": "3d77ea31-c246-47cc-b7f2-55d2999bb88b",
   "metadata": {},
   "outputs": [],
   "source": [
    "subreddit = reddit.subreddit('Stormlight_Archive')"
   ]
  },
  {
   "cell_type": "code",
   "execution_count": 145,
   "id": "6c116d86-654d-4ef3-832d-4d544e8c2a6d",
   "metadata": {},
   "outputs": [],
   "source": [
    "top_posts = subreddit.top(time_filter='year', limit=4)"
   ]
  },
  {
   "cell_type": "code",
   "execution_count": 146,
   "id": "22a15098-b379-42f0-a97c-90f764ba51b9",
   "metadata": {},
   "outputs": [],
   "source": [
    "sub = pd.DataFrame(columns=['id', 'subreddit', 'author', 'title', 'utc_created','ups', 'upvote_ratio', 'view_count'])"
   ]
  },
  {
   "cell_type": "code",
   "execution_count": 147,
   "id": "0613e404-0b2d-4bb0-9426-50691ce10b81",
   "metadata": {
    "scrolled": true,
    "tags": []
   },
   "outputs": [],
   "source": [
    "for post in top_posts:\n",
    "    if post.stickied:\n",
    "        continue\n",
    "    entry = {\n",
    "        'id': post.id,\n",
    "        'subreddit': post.subreddit,\n",
    "        'author': post.author,\n",
    "        'title': post.title,\n",
    "        'utc_created': post.created_utc,\n",
    "        'ups': post.ups,\n",
    "        'upvote_ratio': post.upvote_ratio,\n",
    "        'view_count': post.view_count\n",
    "    }\n",
    "    sub.loc[len(sub.index)] = entry"
   ]
  },
  {
   "cell_type": "code",
   "execution_count": 148,
   "id": "d4bd447c-75de-42ba-a848-8b9ff320c7df",
   "metadata": {},
   "outputs": [
    {
     "data": {
      "text/html": [
       "<div>\n",
       "<style scoped>\n",
       "    .dataframe tbody tr th:only-of-type {\n",
       "        vertical-align: middle;\n",
       "    }\n",
       "\n",
       "    .dataframe tbody tr th {\n",
       "        vertical-align: top;\n",
       "    }\n",
       "\n",
       "    .dataframe thead th {\n",
       "        text-align: right;\n",
       "    }\n",
       "</style>\n",
       "<table border=\"1\" class=\"dataframe\">\n",
       "  <thead>\n",
       "    <tr style=\"text-align: right;\">\n",
       "      <th></th>\n",
       "      <th>id</th>\n",
       "      <th>subreddit</th>\n",
       "      <th>author</th>\n",
       "      <th>title</th>\n",
       "      <th>utc_created</th>\n",
       "      <th>ups</th>\n",
       "      <th>upvote_ratio</th>\n",
       "      <th>view_count</th>\n",
       "    </tr>\n",
       "  </thead>\n",
       "  <tbody>\n",
       "    <tr>\n",
       "      <th>0</th>\n",
       "      <td>x7h8vo</td>\n",
       "      <td>Stormlight_Archive</td>\n",
       "      <td>mistborn</td>\n",
       "      <td>Stormlight Five Update One</td>\n",
       "      <td>1.662487e+09</td>\n",
       "      <td>7810</td>\n",
       "      <td>0.96</td>\n",
       "      <td>None</td>\n",
       "    </tr>\n",
       "    <tr>\n",
       "      <th>1</th>\n",
       "      <td>yswbcc</td>\n",
       "      <td>Stormlight_Archive</td>\n",
       "      <td>EisConfused</td>\n",
       "      <td>I spent 3 days animating patterns head based o...</td>\n",
       "      <td>1.668227e+09</td>\n",
       "      <td>3712</td>\n",
       "      <td>0.99</td>\n",
       "      <td>None</td>\n",
       "    </tr>\n",
       "    <tr>\n",
       "      <th>2</th>\n",
       "      <td>znrgqn</td>\n",
       "      <td>Stormlight_Archive</td>\n",
       "      <td>Seyda0</td>\n",
       "      <td>Henry Cavill talking about Sanderson and the S...</td>\n",
       "      <td>1.671231e+09</td>\n",
       "      <td>3644</td>\n",
       "      <td>0.97</td>\n",
       "      <td>None</td>\n",
       "    </tr>\n",
       "    <tr>\n",
       "      <th>3</th>\n",
       "      <td>vmq6h3</td>\n",
       "      <td>Stormlight_Archive</td>\n",
       "      <td>g_madzharov</td>\n",
       "      <td>\"Windrunner\" (Fanart by me)</td>\n",
       "      <td>1.656431e+09</td>\n",
       "      <td>3095</td>\n",
       "      <td>0.99</td>\n",
       "      <td>None</td>\n",
       "    </tr>\n",
       "  </tbody>\n",
       "</table>\n",
       "</div>"
      ],
      "text/plain": [
       "       id           subreddit       author  \\\n",
       "0  x7h8vo  Stormlight_Archive     mistborn   \n",
       "1  yswbcc  Stormlight_Archive  EisConfused   \n",
       "2  znrgqn  Stormlight_Archive       Seyda0   \n",
       "3  vmq6h3  Stormlight_Archive  g_madzharov   \n",
       "\n",
       "                                               title   utc_created   ups  \\\n",
       "0                         Stormlight Five Update One  1.662487e+09  7810   \n",
       "1  I spent 3 days animating patterns head based o...  1.668227e+09  3712   \n",
       "2  Henry Cavill talking about Sanderson and the S...  1.671231e+09  3644   \n",
       "3                        \"Windrunner\" (Fanart by me)  1.656431e+09  3095   \n",
       "\n",
       "   upvote_ratio view_count  \n",
       "0          0.96       None  \n",
       "1          0.99       None  \n",
       "2          0.97       None  \n",
       "3          0.99       None  "
      ]
     },
     "execution_count": 148,
     "metadata": {},
     "output_type": "execute_result"
    }
   ],
   "source": [
    "sub"
   ]
  },
  {
   "cell_type": "code",
   "execution_count": 203,
   "id": "ad3cc432-9e62-4d7d-8c1c-5525289f758d",
   "metadata": {},
   "outputs": [],
   "source": [
    "curr_post = reddit.submission(sub.loc[1]['id'])"
   ]
  },
  {
   "cell_type": "code",
   "execution_count": 204,
   "id": "ad47cc2b-6fcd-4633-8232-e3f132a6f4b7",
   "metadata": {},
   "outputs": [
    {
     "data": {
      "text/plain": [
       "Submission(id='yswbcc')"
      ]
     },
     "execution_count": 204,
     "metadata": {},
     "output_type": "execute_result"
    }
   ],
   "source": [
    "curr_post"
   ]
  },
  {
   "cell_type": "code",
   "execution_count": 205,
   "id": "8f3d1d71-6f87-48db-9251-27ad9a00d4f1",
   "metadata": {},
   "outputs": [],
   "source": [
    "t = 0\n",
    "for i in curr_post.comments:\n",
    "    \n",
    "    redditor_comms= reddit.redditor('body').comments.new()\n",
    "    \n",
    "    for com in redditor_comms:\n",
    "        print(com.subreddit)\n",
    "\n",
    "    \n",
    "    # for post in author.submissions:\n",
    "    #     print(post.subreddit)\n",
    "    # if t == 2:\n",
    "    #     break"
   ]
  },
  {
   "cell_type": "code",
   "execution_count": 186,
   "id": "4bf8db35-3fa5-45fe-9906-25f429c5129b",
   "metadata": {},
   "outputs": [
    {
     "data": {
      "text/plain": [
       "<praw.models.listing.generator.ListingGenerator at 0x16a1c1dc0>"
      ]
     },
     "execution_count": 186,
     "metadata": {},
     "output_type": "execute_result"
    }
   ],
   "source": [
    "reddit.redditor(\"spez\").comments.top(time_filter=\"year\", limit=5)\n",
    "    "
   ]
  }
 ],
 "metadata": {
  "kernelspec": {
   "display_name": "Python 3 (ipykernel)",
   "language": "python",
   "name": "python3"
  },
  "language_info": {
   "codemirror_mode": {
    "name": "ipython",
    "version": 3
   },
   "file_extension": ".py",
   "mimetype": "text/x-python",
   "name": "python",
   "nbconvert_exporter": "python",
   "pygments_lexer": "ipython3",
   "version": "3.9.7"
  }
 },
 "nbformat": 4,
 "nbformat_minor": 5
}
